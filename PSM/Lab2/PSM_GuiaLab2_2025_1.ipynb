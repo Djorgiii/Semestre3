{
 "cells": [
  {
   "cell_type": "markdown",
   "metadata": {},
   "source": [
    "# Processamento de Sinais Multimédia\n",
    "## Semestre Inverno 2025/26\n",
    "\n",
    "## Guia Aula Prática - Sistemas FIR e IIR\n"
   ]
  },
  {
   "cell_type": "markdown",
   "metadata": {},
   "source": [
    "1. Considere os sistemas definidos pelas equações às diferenças:\n",
    "\n",
    "$y_1[n]= x[n] - r x[n-c]$,\n",
    "\n",
    "$y_2[n]= x[n] - r y_2[n-c]$,\n",
    "\n",
    "Considere sequencialmente as situações onde o atraso c toma os valores c=1 ou c=2, e o fator multiplicativo r toma os valores r=0.9 ou r=0.1 ou r=-0.9."
   ]
  },
  {
   "cell_type": "markdown",
   "metadata": {},
   "source": [
    "a) Desenhe o diagrama de blocos de cada um dos sistemas"
   ]
  },
  {
   "cell_type": "markdown",
   "metadata": {},
   "source": [
    "b) Obtenha os bks e aks de cada um dos sistemas"
   ]
  },
  {
   "cell_type": "markdown",
   "metadata": {},
   "source": [
    "c) Implemente estes sistemas usando a função 'y = scipy.signals.lfilter(bk,ak,x)', usando um sinal de entrada de teste"
   ]
  },
  {
   "cell_type": "code",
   "execution_count": 8,
   "metadata": {},
   "outputs": [
    {
     "data": {
      "text/html": [
       "\n",
       "                <audio  controls=\"controls\" autoplay=\"autoplay\">\n",
       "                    <source src=\"data:audio/wav;base64,UklGRogAAABXQVZFZm10IBAAAAABAAEAMgAAAGQAAAACABAAZGF0YWQAAAD/fwAAzowAAAAAAAAAAAAAAAAAAAAAAAAAAAAAAAAAAAAAAAAAAAAAAAAAAAAAAAAAAAAAAAAAAAAAAAAAAAAAAAAAAAAAAAAAAAAAAAAAAAAAAAAAAAAAAAAAAAAAAAAAAAAA\" type=\"audio/wav\" />\n",
       "                    Your browser does not support the audio element.\n",
       "                </audio>\n",
       "              "
      ],
      "text/plain": [
       "<IPython.lib.display.Audio object>"
      ]
     },
     "execution_count": 8,
     "metadata": {},
     "output_type": "execute_result"
    }
   ],
   "source": [
    "import scipy.signal\n",
    "import numpy as np\n",
    "import matplotlib.pyplot as plt\n",
    "import IPython  \n",
    "r = 0.9\n",
    "c = 1\n",
    "bk = [1,0, -r]\n",
    "N=50\n",
    "x = np.zeros(N)\n",
    "x[0] = 1\n",
    "\n",
    "\n",
    "y = scipy.signal.lfilter(bk, 1, x)\n",
    "\n",
    "IPython.display.Audio(y, rate=50, autoplay=True)\n",
    "\n"
   ]
  },
  {
   "cell_type": "markdown",
   "metadata": {},
   "source": [
    "d) Qual é a resposta impulsional de cada um dos sistemas? "
   ]
  },
  {
   "cell_type": "code",
   "execution_count": null,
   "metadata": {},
   "outputs": [],
   "source": []
  },
  {
   "cell_type": "markdown",
   "metadata": {},
   "source": [
    "e) Qual é a resposta em frequência?\n",
    "\n",
    "Use a função 'w,h=scipy.signal.freqz(bk,ak)'.  Qual a influencia do valor de c nos sistemas?\n",
    "https://docs.scipy.org/doc/scipy/reference/generated/scipy.signal.freqz.html\n",
    "    "
   ]
  },
  {
   "cell_type": "code",
   "execution_count": null,
   "metadata": {},
   "outputs": [],
   "source": []
  },
  {
   "cell_type": "markdown",
   "metadata": {},
   "source": [
    "d) Qual a saída de cada um destes sistemas quando $x[n]=10 + 2\\cos(\\frac{\\pi}{6}n)+ 10\n",
    "    \\cos(\\frac{\\pi}{3}n)$? Realize este cálculo teoricamente e verifique o resultado usando o python usando a função \"y=scipy.signal.lfilter(b,a,x)\"."
   ]
  },
  {
   "cell_type": "code",
   "execution_count": null,
   "metadata": {},
   "outputs": [],
   "source": []
  },
  {
   "cell_type": "markdown",
   "metadata": {},
   "source": []
  }
 ],
 "metadata": {
  "kernelspec": {
   "display_name": "Python 3",
   "language": "python",
   "name": "python3"
  },
  "language_info": {
   "codemirror_mode": {
    "name": "ipython",
    "version": 3
   },
   "file_extension": ".py",
   "mimetype": "text/x-python",
   "name": "python",
   "nbconvert_exporter": "python",
   "pygments_lexer": "ipython3",
   "version": "3.12.6"
  }
 },
 "nbformat": 4,
 "nbformat_minor": 2
}
