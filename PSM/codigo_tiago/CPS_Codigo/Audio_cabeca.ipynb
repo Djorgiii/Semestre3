{
 "cells": [
  {
   "cell_type": "code",
   "execution_count": 44,
   "metadata": {},
   "outputs": [],
   "source": [
    "import numpy as np\n",
    "folder = \"./HRTF/\"\n",
    "numpy_data00 = np.fromfile(folder + 'H0e000a.dat', dtype = 'short')\n",
    "numpy_data80 = np.fromfile(folder + 'H0e080a.dat', dtype = 'short')\n",
    "leftimp00 = numpy_data00[::2]\n",
    "rightimp00 = numpy_data00[1::2]\n",
    "leftimp80= numpy_data80[::2]\n",
    "rightimp80 = numpy_data80[1::2]"
   ]
  },
  {
   "cell_type": "code",
   "execution_count": 45,
   "metadata": {},
   "outputs": [
    {
     "data": {
      "text/plain": [
       "(256,)"
      ]
     },
     "execution_count": 45,
     "metadata": {},
     "output_type": "execute_result"
    }
   ],
   "source": [
    "numpy_data00.shape"
   ]
  },
  {
   "cell_type": "code",
   "execution_count": 46,
   "metadata": {},
   "outputs": [
    {
     "data": {
      "text/plain": [
       "256"
      ]
     },
     "execution_count": 46,
     "metadata": {},
     "output_type": "execute_result"
    }
   ],
   "source": [
    "len(numpy_data80)"
   ]
  },
  {
   "cell_type": "code",
   "execution_count": 47,
   "metadata": {},
   "outputs": [],
   "source": [
    "from scipy.io import  wavfile\n",
    "from IPython.display import Audio, display\n",
    "\n",
    "file = \"practice.wav\"\n",
    "fs, data = wavfile.read(file)"
   ]
  },
  {
   "cell_type": "code",
   "execution_count": 48,
   "metadata": {},
   "outputs": [],
   "source": [
    "data = data.astype(\"float\")"
   ]
  },
  {
   "cell_type": "code",
   "execution_count": 49,
   "metadata": {},
   "outputs": [],
   "source": [
    "lchannel00 = np.convolve(leftimp00, data * 1.0)\n",
    "rchannel00 = np.convolve(rightimp00, data * 1.0)\n",
    "lchannel80 = np.convolve(leftimp80, data * 1.0)\n",
    "rchannel80 = np.convolve(rightimp80, data * 1.0)"
   ]
  },
  {
   "cell_type": "code",
   "execution_count": 50,
   "metadata": {},
   "outputs": [
    {
     "data": {
      "text/plain": [
       "dtype('float64')"
      ]
     },
     "execution_count": 50,
     "metadata": {},
     "output_type": "execute_result"
    }
   ],
   "source": [
    "data.dtype"
   ]
  },
  {
   "cell_type": "code",
   "execution_count": 51,
   "metadata": {},
   "outputs": [],
   "source": [
    "newData80 = np.zeros((len(lchannel80), 2))\n",
    "newData80[:,0] = lchannel80 / np.max(np.abs(lchannel80)) * 2 ** 15\n",
    "newData80[:,1] = rchannel80 / np.max(np.abs(rchannel80)) * 2 ** 15\n",
    "\n",
    "newData00 = np.zeros((len(lchannel00), 2))\n",
    "newData00[:,0] = lchannel00 / np.max(np.abs(lchannel00)) * 2 ** 15\n",
    "newData00[:,1] = rchannel00 / np.max(np.abs(rchannel00)) * 2 ** 15\n",
    "\n",
    "wavfile.write(\"example00.wav\", fs, newData00.astype(np.int16))\n",
    "wavfile.write(\"example80.wav\", fs, newData80.astype(np.int16))"
   ]
  }
 ],
 "metadata": {
  "kernelspec": {
   "display_name": "base",
   "language": "python",
   "name": "python3"
  },
  "language_info": {
   "codemirror_mode": {
    "name": "ipython",
    "version": 3
   },
   "file_extension": ".py",
   "mimetype": "text/x-python",
   "name": "python",
   "nbconvert_exporter": "python",
   "pygments_lexer": "ipython3",
   "version": "3.12.4"
  }
 },
 "nbformat": 4,
 "nbformat_minor": 2
}
