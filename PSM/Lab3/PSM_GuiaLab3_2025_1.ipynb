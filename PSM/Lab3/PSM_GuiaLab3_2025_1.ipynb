{
 "cells": [
  {
   "cell_type": "markdown",
   "metadata": {},
   "source": [
    "# Processamento de Sinais Multimédia\n",
    "## Semestre Inverno 2025/26\n",
    "\n",
    "## Guia Aula Prática - Filtragem\n"
   ]
  },
  {
   "cell_type": "markdown",
   "metadata": {},
   "source": [
    "1. Considere os sistemas definidos pelas equações às diferenças:\n",
    "\n",
    "$y_1[n]= x[n] - r x[n-c]$,\n",
    "\n",
    "$y_2[n]= x[n] - r y_2[n-c]$,\n",
    "\n",
    "Considere sequencialmente as situações onde o atraso c toma os valores c=1 ou c=2, e o fator multiplicativo r toma os valores r=0.9 ou r=0.1 ou r=-0.9."
   ]
  },
  {
   "cell_type": "markdown",
   "metadata": {},
   "source": [
    "b) Obtenha os bks e aks de cada um dos sistemas"
   ]
  },
  {
   "cell_type": "markdown",
   "metadata": {},
   "source": [
    "$y_1[n] = x[n] - 0.9 x_1[n-2]$\n",
    "\n",
    "bk = \n",
    "\n",
    "ak ="
   ]
  },
  {
   "cell_type": "markdown",
   "metadata": {},
   "source": [
    "$y_2[n] = x[n] - 0.9 y_2[n-2]$\n",
    "\n",
    "bk = \n",
    "\n",
    "ak = "
   ]
  },
  {
   "cell_type": "markdown",
   "metadata": {},
   "source": [
    "e) Qual é a resposta em frequência?\n",
    "\n",
    "Use a função 'w,h=scipy.signal.freqz(bk,ak)'.  Qual a influencia do valor de c nos sistemas?\n",
    "https://docs.scipy.org/doc/scipy/reference/generated/scipy.signal.freqz.html\n",
    "    "
   ]
  },
  {
   "cell_type": "code",
   "execution_count": null,
   "metadata": {},
   "outputs": [],
   "source": []
  },
  {
   "cell_type": "markdown",
   "metadata": {},
   "source": [
    "d) Qual a saída de cada um destes sistemas quando $x[n]=10 + 2\\cos(\\frac{\\pi}{6}n)+ 10\n",
    "    \\cos(\\frac{\\pi}{3}n)$? Realize este cálculo teoricamente e verifique o resultado usando o python usando a função \"y=scipy.signal.lfilter(b,a,x)\"."
   ]
  },
  {
   "cell_type": "code",
   "execution_count": null,
   "metadata": {},
   "outputs": [],
   "source": []
  },
  {
   "cell_type": "markdown",
   "metadata": {},
   "source": [
    "2. Pretende-se desenhar filtros com especifcaçõs conhecidas usando o python. Para tal utilize a função y=scipy.signal.firwin(numtaps, cutoff,pass_zero=True), onde numtaps define a ordem do fltro, cutoff é uma lista que define a(s) frequência(s) de corte e pass zero uma variável boleana (True para passa baixo e False para passa alto e passa banda). Verifque que outros parametros esta função permite defnir."
   ]
  },
  {
   "cell_type": "markdown",
   "metadata": {},
   "source": [
    "a) Filtro passa-baixo com frequência de corte $wc = \\pi/ 3$.\n",
    "\n",
    "\n",
    "b) Filtro passa-alto com frequência de corte $wc = \\pi/ 3$.\n",
    "c) Filtro passa-banda com frequência de corte $wc1 = \\pi/ 4$ e  $wc2 = \\pi/ 3$.\n",
    "\n",
    "d) Aplique os filtros desenhados em vários sinais wav e verifique os outputs. Quais as frequências de corte e qual a relação com a frequência de amostragem?"
   ]
  },
  {
   "cell_type": "markdown",
   "metadata": {},
   "source": []
  }
 ],
 "metadata": {
  "kernelspec": {
   "display_name": "Python 3",
   "language": "python",
   "name": "python3"
  },
  "language_info": {
   "codemirror_mode": {
    "name": "ipython",
    "version": 3
   },
   "file_extension": ".py",
   "mimetype": "text/x-python",
   "name": "python",
   "nbconvert_exporter": "python",
   "pygments_lexer": "ipython3",
   "version": "3.12.7"
  }
 },
 "nbformat": 4,
 "nbformat_minor": 2
}
